{
 "cells": [
  {
   "cell_type": "markdown",
   "metadata": {},
   "source": [
    "# Treemaps in matplotlib with squarify"
   ]
  },
  {
   "cell_type": "code",
   "execution_count": 48,
   "metadata": {},
   "outputs": [],
   "source": [
    "import pandas as pd\n",
    "import matplotlib.pyplot as plt\n",
    "import squarify\n",
    "import seaborn as sb"
   ]
  },
  {
   "cell_type": "code",
   "execution_count": 49,
   "metadata": {},
   "outputs": [],
   "source": [
    "data1 = {\n",
    "     'name': ['Xavier', 'Ann', 'Jana', 'Yi', 'Robin', 'Amal', 'Nori'],\n",
    "     'city': ['Mexico City', 'Toronto', 'Prague', 'Shanghai',\n",
    "              'Manchester', 'Cairo', 'Osaka'],\n",
    "    'age': [41, 28, 33, 34, 38, 31, 37],\n",
    "    'py-score': [88.0, 79.0, 81.0, 80.0, 68.0, 61.0, 84.0]\n",
    " }\n",
    "\n",
    "row_labels = [101, 102, 103, 104, 105, 106, 107]"
   ]
  },
  {
   "cell_type": "code",
   "execution_count": 32,
   "metadata": {},
   "outputs": [
    {
     "data": {
      "text/html": [
       "<div>\n",
       "<style scoped>\n",
       "    .dataframe tbody tr th:only-of-type {\n",
       "        vertical-align: middle;\n",
       "    }\n",
       "\n",
       "    .dataframe tbody tr th {\n",
       "        vertical-align: top;\n",
       "    }\n",
       "\n",
       "    .dataframe thead th {\n",
       "        text-align: right;\n",
       "    }\n",
       "</style>\n",
       "<table border=\"1\" class=\"dataframe\">\n",
       "  <thead>\n",
       "    <tr style=\"text-align: right;\">\n",
       "      <th></th>\n",
       "      <th>name</th>\n",
       "      <th>city</th>\n",
       "      <th>age</th>\n",
       "      <th>py-score</th>\n",
       "    </tr>\n",
       "  </thead>\n",
       "  <tbody>\n",
       "    <tr>\n",
       "      <th>101</th>\n",
       "      <td>Xavier</td>\n",
       "      <td>Mexico City</td>\n",
       "      <td>41</td>\n",
       "      <td>88.0</td>\n",
       "    </tr>\n",
       "    <tr>\n",
       "      <th>102</th>\n",
       "      <td>Ann</td>\n",
       "      <td>Toronto</td>\n",
       "      <td>28</td>\n",
       "      <td>79.0</td>\n",
       "    </tr>\n",
       "    <tr>\n",
       "      <th>103</th>\n",
       "      <td>Jana</td>\n",
       "      <td>Prague</td>\n",
       "      <td>33</td>\n",
       "      <td>81.0</td>\n",
       "    </tr>\n",
       "    <tr>\n",
       "      <th>104</th>\n",
       "      <td>Yi</td>\n",
       "      <td>Shanghai</td>\n",
       "      <td>34</td>\n",
       "      <td>80.0</td>\n",
       "    </tr>\n",
       "    <tr>\n",
       "      <th>105</th>\n",
       "      <td>Robin</td>\n",
       "      <td>Manchester</td>\n",
       "      <td>38</td>\n",
       "      <td>68.0</td>\n",
       "    </tr>\n",
       "    <tr>\n",
       "      <th>106</th>\n",
       "      <td>Amal</td>\n",
       "      <td>Cairo</td>\n",
       "      <td>31</td>\n",
       "      <td>61.0</td>\n",
       "    </tr>\n",
       "    <tr>\n",
       "      <th>107</th>\n",
       "      <td>Nori</td>\n",
       "      <td>Osaka</td>\n",
       "      <td>37</td>\n",
       "      <td>84.0</td>\n",
       "    </tr>\n",
       "  </tbody>\n",
       "</table>\n",
       "</div>"
      ],
      "text/plain": [
       "       name         city  age  py-score\n",
       "101  Xavier  Mexico City   41      88.0\n",
       "102     Ann      Toronto   28      79.0\n",
       "103    Jana       Prague   33      81.0\n",
       "104      Yi     Shanghai   34      80.0\n",
       "105   Robin   Manchester   38      68.0\n",
       "106    Amal        Cairo   31      61.0\n",
       "107    Nori        Osaka   37      84.0"
      ]
     },
     "execution_count": 32,
     "metadata": {},
     "output_type": "execute_result"
    }
   ],
   "source": [
    "data1 = pd.DataFrame(data=data, index=row_labels)\n",
    "data1"
   ]
  },
  {
   "cell_type": "code",
   "execution_count": 33,
   "metadata": {},
   "outputs": [],
   "source": [
    "data2 = {\n",
    "     'name': ['Liam',\"Noah\",'Olivia','Oliver','William','Ava','James','Emma','Elijah','Benjamin','Evelyn','Lucas',\n",
    "               'Henry','Alexander','Eleanor','Penelope','Theodore'],\n",
    "     'city': ['Mexico City', 'Toronto', 'Prague', 'Shanghai','Manchester', 'Cairo', 'Osaka','Toronto','Shanghai',\n",
    "              'Mexico City','Toronto','Mexico City','Manchester','Mexico City','Toronto','Mexico City','Mexico City'],\n",
    "    'age': [64, 72, 44, 73, 53, 74, 72, 34, 89, 44, 51, 43, 43, 95, 85, 21, 77],\n",
    "    'py-score': [76.8, 69.1, 77.2, 97.3, 24.6, 71.1, 52.2, 77.1, 77.7, 62.8, 87.5, 58.7, 25.7, 88.6, 37.1, 98.8, 54.3]\n",
    " }\n",
    "\n",
    "row_labels = [0, 1, 2, 3, 4, 5, 6, 7, 8, 9, 10, 11, 12, 13, 14, 15, 16]"
   ]
  },
  {
   "cell_type": "code",
   "execution_count": 34,
   "metadata": {},
   "outputs": [
    {
     "data": {
      "text/html": [
       "<div>\n",
       "<style scoped>\n",
       "    .dataframe tbody tr th:only-of-type {\n",
       "        vertical-align: middle;\n",
       "    }\n",
       "\n",
       "    .dataframe tbody tr th {\n",
       "        vertical-align: top;\n",
       "    }\n",
       "\n",
       "    .dataframe thead th {\n",
       "        text-align: right;\n",
       "    }\n",
       "</style>\n",
       "<table border=\"1\" class=\"dataframe\">\n",
       "  <thead>\n",
       "    <tr style=\"text-align: right;\">\n",
       "      <th></th>\n",
       "      <th>name</th>\n",
       "      <th>city</th>\n",
       "      <th>age</th>\n",
       "      <th>py-score</th>\n",
       "    </tr>\n",
       "  </thead>\n",
       "  <tbody>\n",
       "    <tr>\n",
       "      <th>0</th>\n",
       "      <td>Liam</td>\n",
       "      <td>Mexico City</td>\n",
       "      <td>64</td>\n",
       "      <td>76.8</td>\n",
       "    </tr>\n",
       "    <tr>\n",
       "      <th>1</th>\n",
       "      <td>Noah</td>\n",
       "      <td>Toronto</td>\n",
       "      <td>72</td>\n",
       "      <td>69.1</td>\n",
       "    </tr>\n",
       "    <tr>\n",
       "      <th>2</th>\n",
       "      <td>Olivia</td>\n",
       "      <td>Prague</td>\n",
       "      <td>44</td>\n",
       "      <td>77.2</td>\n",
       "    </tr>\n",
       "    <tr>\n",
       "      <th>3</th>\n",
       "      <td>Oliver</td>\n",
       "      <td>Shanghai</td>\n",
       "      <td>73</td>\n",
       "      <td>97.3</td>\n",
       "    </tr>\n",
       "    <tr>\n",
       "      <th>4</th>\n",
       "      <td>William</td>\n",
       "      <td>Manchester</td>\n",
       "      <td>53</td>\n",
       "      <td>24.6</td>\n",
       "    </tr>\n",
       "    <tr>\n",
       "      <th>5</th>\n",
       "      <td>Ava</td>\n",
       "      <td>Cairo</td>\n",
       "      <td>74</td>\n",
       "      <td>71.1</td>\n",
       "    </tr>\n",
       "    <tr>\n",
       "      <th>6</th>\n",
       "      <td>James</td>\n",
       "      <td>Osaka</td>\n",
       "      <td>72</td>\n",
       "      <td>52.2</td>\n",
       "    </tr>\n",
       "    <tr>\n",
       "      <th>7</th>\n",
       "      <td>Emma</td>\n",
       "      <td>Toronto</td>\n",
       "      <td>34</td>\n",
       "      <td>77.1</td>\n",
       "    </tr>\n",
       "    <tr>\n",
       "      <th>8</th>\n",
       "      <td>Elijah</td>\n",
       "      <td>Shanghai</td>\n",
       "      <td>89</td>\n",
       "      <td>77.7</td>\n",
       "    </tr>\n",
       "    <tr>\n",
       "      <th>9</th>\n",
       "      <td>Benjamin</td>\n",
       "      <td>Mexico City</td>\n",
       "      <td>44</td>\n",
       "      <td>62.8</td>\n",
       "    </tr>\n",
       "    <tr>\n",
       "      <th>10</th>\n",
       "      <td>Evelyn</td>\n",
       "      <td>Toronto</td>\n",
       "      <td>51</td>\n",
       "      <td>87.5</td>\n",
       "    </tr>\n",
       "    <tr>\n",
       "      <th>11</th>\n",
       "      <td>Lucas</td>\n",
       "      <td>Mexico City</td>\n",
       "      <td>43</td>\n",
       "      <td>58.7</td>\n",
       "    </tr>\n",
       "    <tr>\n",
       "      <th>12</th>\n",
       "      <td>Henry</td>\n",
       "      <td>Manchester</td>\n",
       "      <td>43</td>\n",
       "      <td>25.7</td>\n",
       "    </tr>\n",
       "    <tr>\n",
       "      <th>13</th>\n",
       "      <td>Alexander</td>\n",
       "      <td>Mexico City</td>\n",
       "      <td>95</td>\n",
       "      <td>88.6</td>\n",
       "    </tr>\n",
       "    <tr>\n",
       "      <th>14</th>\n",
       "      <td>Eleanor</td>\n",
       "      <td>Toronto</td>\n",
       "      <td>85</td>\n",
       "      <td>37.1</td>\n",
       "    </tr>\n",
       "    <tr>\n",
       "      <th>15</th>\n",
       "      <td>Penelope</td>\n",
       "      <td>Mexico City</td>\n",
       "      <td>21</td>\n",
       "      <td>98.8</td>\n",
       "    </tr>\n",
       "    <tr>\n",
       "      <th>16</th>\n",
       "      <td>Theodore</td>\n",
       "      <td>Mexico City</td>\n",
       "      <td>77</td>\n",
       "      <td>54.3</td>\n",
       "    </tr>\n",
       "  </tbody>\n",
       "</table>\n",
       "</div>"
      ],
      "text/plain": [
       "         name         city  age  py-score\n",
       "0        Liam  Mexico City   64      76.8\n",
       "1        Noah      Toronto   72      69.1\n",
       "2      Olivia       Prague   44      77.2\n",
       "3      Oliver     Shanghai   73      97.3\n",
       "4     William   Manchester   53      24.6\n",
       "5         Ava        Cairo   74      71.1\n",
       "6       James        Osaka   72      52.2\n",
       "7        Emma      Toronto   34      77.1\n",
       "8      Elijah     Shanghai   89      77.7\n",
       "9    Benjamin  Mexico City   44      62.8\n",
       "10     Evelyn      Toronto   51      87.5\n",
       "11      Lucas  Mexico City   43      58.7\n",
       "12      Henry   Manchester   43      25.7\n",
       "13  Alexander  Mexico City   95      88.6\n",
       "14    Eleanor      Toronto   85      37.1\n",
       "15   Penelope  Mexico City   21      98.8\n",
       "16   Theodore  Mexico City   77      54.3"
      ]
     },
     "execution_count": 34,
     "metadata": {},
     "output_type": "execute_result"
    }
   ],
   "source": [
    "data2= pd.DataFrame(data=data2, index=row_labels)\n",
    "data2"
   ]
  },
  {
   "cell_type": "code",
   "execution_count": 36,
   "metadata": {},
   "outputs": [
    {
     "data": {
      "text/html": [
       "<div>\n",
       "<style scoped>\n",
       "    .dataframe tbody tr th:only-of-type {\n",
       "        vertical-align: middle;\n",
       "    }\n",
       "\n",
       "    .dataframe tbody tr th {\n",
       "        vertical-align: top;\n",
       "    }\n",
       "\n",
       "    .dataframe thead th {\n",
       "        text-align: right;\n",
       "    }\n",
       "</style>\n",
       "<table border=\"1\" class=\"dataframe\">\n",
       "  <thead>\n",
       "    <tr style=\"text-align: right;\">\n",
       "      <th></th>\n",
       "      <th>name</th>\n",
       "      <th>city</th>\n",
       "      <th>age</th>\n",
       "      <th>py-score</th>\n",
       "    </tr>\n",
       "  </thead>\n",
       "  <tbody>\n",
       "    <tr>\n",
       "      <th>0</th>\n",
       "      <td>Xavier</td>\n",
       "      <td>Mexico City</td>\n",
       "      <td>41</td>\n",
       "      <td>88.0</td>\n",
       "    </tr>\n",
       "    <tr>\n",
       "      <th>1</th>\n",
       "      <td>Ann</td>\n",
       "      <td>Toronto</td>\n",
       "      <td>28</td>\n",
       "      <td>79.0</td>\n",
       "    </tr>\n",
       "    <tr>\n",
       "      <th>2</th>\n",
       "      <td>Jana</td>\n",
       "      <td>Prague</td>\n",
       "      <td>33</td>\n",
       "      <td>81.0</td>\n",
       "    </tr>\n",
       "    <tr>\n",
       "      <th>3</th>\n",
       "      <td>Yi</td>\n",
       "      <td>Shanghai</td>\n",
       "      <td>34</td>\n",
       "      <td>80.0</td>\n",
       "    </tr>\n",
       "    <tr>\n",
       "      <th>4</th>\n",
       "      <td>Robin</td>\n",
       "      <td>Manchester</td>\n",
       "      <td>38</td>\n",
       "      <td>68.0</td>\n",
       "    </tr>\n",
       "    <tr>\n",
       "      <th>5</th>\n",
       "      <td>Amal</td>\n",
       "      <td>Cairo</td>\n",
       "      <td>31</td>\n",
       "      <td>61.0</td>\n",
       "    </tr>\n",
       "    <tr>\n",
       "      <th>6</th>\n",
       "      <td>Nori</td>\n",
       "      <td>Osaka</td>\n",
       "      <td>37</td>\n",
       "      <td>84.0</td>\n",
       "    </tr>\n",
       "    <tr>\n",
       "      <th>7</th>\n",
       "      <td>Liam</td>\n",
       "      <td>Mexico City</td>\n",
       "      <td>64</td>\n",
       "      <td>76.8</td>\n",
       "    </tr>\n",
       "    <tr>\n",
       "      <th>8</th>\n",
       "      <td>Noah</td>\n",
       "      <td>Toronto</td>\n",
       "      <td>72</td>\n",
       "      <td>69.1</td>\n",
       "    </tr>\n",
       "    <tr>\n",
       "      <th>9</th>\n",
       "      <td>Olivia</td>\n",
       "      <td>Prague</td>\n",
       "      <td>44</td>\n",
       "      <td>77.2</td>\n",
       "    </tr>\n",
       "    <tr>\n",
       "      <th>10</th>\n",
       "      <td>Oliver</td>\n",
       "      <td>Shanghai</td>\n",
       "      <td>73</td>\n",
       "      <td>97.3</td>\n",
       "    </tr>\n",
       "    <tr>\n",
       "      <th>11</th>\n",
       "      <td>William</td>\n",
       "      <td>Manchester</td>\n",
       "      <td>53</td>\n",
       "      <td>24.6</td>\n",
       "    </tr>\n",
       "    <tr>\n",
       "      <th>12</th>\n",
       "      <td>Ava</td>\n",
       "      <td>Cairo</td>\n",
       "      <td>74</td>\n",
       "      <td>71.1</td>\n",
       "    </tr>\n",
       "    <tr>\n",
       "      <th>13</th>\n",
       "      <td>James</td>\n",
       "      <td>Osaka</td>\n",
       "      <td>72</td>\n",
       "      <td>52.2</td>\n",
       "    </tr>\n",
       "    <tr>\n",
       "      <th>14</th>\n",
       "      <td>Emma</td>\n",
       "      <td>Toronto</td>\n",
       "      <td>34</td>\n",
       "      <td>77.1</td>\n",
       "    </tr>\n",
       "    <tr>\n",
       "      <th>15</th>\n",
       "      <td>Elijah</td>\n",
       "      <td>Shanghai</td>\n",
       "      <td>89</td>\n",
       "      <td>77.7</td>\n",
       "    </tr>\n",
       "    <tr>\n",
       "      <th>16</th>\n",
       "      <td>Benjamin</td>\n",
       "      <td>Mexico City</td>\n",
       "      <td>44</td>\n",
       "      <td>62.8</td>\n",
       "    </tr>\n",
       "    <tr>\n",
       "      <th>17</th>\n",
       "      <td>Evelyn</td>\n",
       "      <td>Toronto</td>\n",
       "      <td>51</td>\n",
       "      <td>87.5</td>\n",
       "    </tr>\n",
       "    <tr>\n",
       "      <th>18</th>\n",
       "      <td>Lucas</td>\n",
       "      <td>Mexico City</td>\n",
       "      <td>43</td>\n",
       "      <td>58.7</td>\n",
       "    </tr>\n",
       "    <tr>\n",
       "      <th>19</th>\n",
       "      <td>Henry</td>\n",
       "      <td>Manchester</td>\n",
       "      <td>43</td>\n",
       "      <td>25.7</td>\n",
       "    </tr>\n",
       "    <tr>\n",
       "      <th>20</th>\n",
       "      <td>Alexander</td>\n",
       "      <td>Mexico City</td>\n",
       "      <td>95</td>\n",
       "      <td>88.6</td>\n",
       "    </tr>\n",
       "    <tr>\n",
       "      <th>21</th>\n",
       "      <td>Eleanor</td>\n",
       "      <td>Toronto</td>\n",
       "      <td>85</td>\n",
       "      <td>37.1</td>\n",
       "    </tr>\n",
       "    <tr>\n",
       "      <th>22</th>\n",
       "      <td>Penelope</td>\n",
       "      <td>Mexico City</td>\n",
       "      <td>21</td>\n",
       "      <td>98.8</td>\n",
       "    </tr>\n",
       "    <tr>\n",
       "      <th>23</th>\n",
       "      <td>Theodore</td>\n",
       "      <td>Mexico City</td>\n",
       "      <td>77</td>\n",
       "      <td>54.3</td>\n",
       "    </tr>\n",
       "  </tbody>\n",
       "</table>\n",
       "</div>"
      ],
      "text/plain": [
       "         name         city  age  py-score\n",
       "0      Xavier  Mexico City   41      88.0\n",
       "1         Ann      Toronto   28      79.0\n",
       "2        Jana       Prague   33      81.0\n",
       "3          Yi     Shanghai   34      80.0\n",
       "4       Robin   Manchester   38      68.0\n",
       "5        Amal        Cairo   31      61.0\n",
       "6        Nori        Osaka   37      84.0\n",
       "7        Liam  Mexico City   64      76.8\n",
       "8        Noah      Toronto   72      69.1\n",
       "9      Olivia       Prague   44      77.2\n",
       "10     Oliver     Shanghai   73      97.3\n",
       "11    William   Manchester   53      24.6\n",
       "12        Ava        Cairo   74      71.1\n",
       "13      James        Osaka   72      52.2\n",
       "14       Emma      Toronto   34      77.1\n",
       "15     Elijah     Shanghai   89      77.7\n",
       "16   Benjamin  Mexico City   44      62.8\n",
       "17     Evelyn      Toronto   51      87.5\n",
       "18      Lucas  Mexico City   43      58.7\n",
       "19      Henry   Manchester   43      25.7\n",
       "20  Alexander  Mexico City   95      88.6\n",
       "21    Eleanor      Toronto   85      37.1\n",
       "22   Penelope  Mexico City   21      98.8\n",
       "23   Theodore  Mexico City   77      54.3"
      ]
     },
     "execution_count": 36,
     "metadata": {},
     "output_type": "execute_result"
    }
   ],
   "source": [
    "df=pd.concat([data1, data2], ignore_index=True)\n",
    "df"
   ]
  },
  {
   "cell_type": "markdown",
   "metadata": {},
   "source": [
    "La bibliothèque Squarify fournit une fonction nommée Squarify.plot qui peut être utilisée pour créer de superbes arborescences en Python. Afin de créer un treemap de base, transmettez un tableau de valeurs à l'argument size. Notez que ce type de graphique n'a pas besoin d'axe, vous pouvez donc le supprimer avec plt.axis(\"off\")."
   ]
  },
  {
   "cell_type": "code",
   "execution_count": 40,
   "metadata": {},
   "outputs": [
    {
     "data": {
      "text/plain": [
       "(0.0, 100.0, 0.0, 100.0)"
      ]
     },
     "execution_count": 40,
     "metadata": {},
     "output_type": "execute_result"
    },
    {
     "data": {
      "image/png": "[encoded data removed]",
      "text/plain": [
       "<Figure size 640x480 with 1 Axes>"
      ]
     },
     "metadata": {},
     "output_type": "display_data"
    }
   ],
   "source": [
    "# Sample data\n",
    "values = df['py-score']\n",
    "\n",
    "# Treemap\n",
    "squarify.plot(sizes = values)\n",
    "\n",
    "# Remove the axis:\n",
    "plt.axis(\"off\")\n",
    "\n",
    "# plt.show()"
   ]
  },
  {
   "cell_type": "markdown",
   "metadata": {},
   "source": [
    "Padding\n",
    "\n",
    "L'argument pad vous permettra d'ajouter un peu de remplissage aux tuiles du treemap. Plus la valeur est élevée, plus les écarts sont importants."
   ]
  },
  {
   "cell_type": "code",
   "execution_count": 41,
   "metadata": {},
   "outputs": [
    {
     "data": {
      "text/plain": [
       "(0.0, 100.0, 0.0, 100.0)"
      ]
     },
     "execution_count": 41,
     "metadata": {},
     "output_type": "execute_result"
    },
    {
     "data": {
      "image/png": "[encoded data removed]",
      "text/plain": [
       "<Figure size 640x480 with 1 Axes>"
      ]
     },
     "metadata": {},
     "output_type": "display_data"
    }
   ],
   "source": [
    "# Sample data\n",
    "values = df['py-score']\n",
    "\n",
    "# Treemap\n",
    "squarify.plot(sizes = values,\n",
    "              pad = 0.25)\n",
    "\n",
    "# Remove the axis:\n",
    "plt.axis(\"off\")\n",
    "\n",
    "# plt.show()"
   ]
  },
  {
   "cell_type": "markdown",
   "metadata": {},
   "source": [
    "# Border \n",
    "\n",
    "c'est possible de d\"assigner des coleurs de bordeurs aux rectangles avec l'argument ec, comme dans l'exemple suivant:"
   ]
  },
  {
   "cell_type": "code",
   "execution_count": 42,
   "metadata": {},
   "outputs": [
    {
     "data": {
      "text/plain": [
       "(0.0, 100.0, 0.0, 100.0)"
      ]
     },
     "execution_count": 42,
     "metadata": {},
     "output_type": "execute_result"
    },
    {
     "data": {
      "image/png": "[encoded data removed]",
      "text/plain": [
       "<Figure size 640x480 with 1 Axes>"
      ]
     },
     "metadata": {},
     "output_type": "display_data"
    }
   ],
   "source": [
    "# Sample data\n",
    "values = df['py-score']\n",
    "\n",
    "# Treemap\n",
    "squarify.plot(sizes = values,\n",
    "              ec = 'black')\n",
    "\n",
    "# Remove the axis:\n",
    "plt.axis(\"off\")\n",
    "\n",
    "# plt.show()"
   ]
  },
  {
   "cell_type": "markdown",
   "metadata": {},
   "source": [
    "# Axis scaling\n",
    "\n",
    "Mise à l'échelle des axes Par défaut, les treemaps créés avec sqarify ont une taille de 100x100, mais avec les arguments norm_x et norm_y, vous pouvez remplacer les dimensions si nécessaire des axes X et Y, respectivement."
   ]
  },
  {
   "cell_type": "code",
   "execution_count": 44,
   "metadata": {},
   "outputs": [
    {
     "data": {
      "text/plain": [
       "<Axes: >"
      ]
     },
     "execution_count": 44,
     "metadata": {},
     "output_type": "execute_result"
    },
    {
     "data": {
      "image/png": "[encoded data removed]",
      "text/plain": [
       "<Figure size 640x480 with 1 Axes>"
      ]
     },
     "metadata": {},
     "output_type": "display_data"
    }
   ],
   "source": [
    "# les données\n",
    "# Sample data\n",
    "values = df[\"py-score\"]\n",
    "\n",
    "# Treemap\n",
    "squarify.plot(sizes = values,\n",
    "              norm_x = 200, \n",
    "              norm_y = 20)\n"
   ]
  },
  {
   "cell_type": "markdown",
   "metadata": {},
   "source": [
    "# Palettes de couleurs"
   ]
  },
  {
   "cell_type": "markdown",
   "metadata": {},
   "source": [
    "Squarify utilise par défaut des couleurs aléatoires de la palette de couleurs viridis, donc chaque fois que vous appelez le tracé, vous obtiendrez un résultat différent. Si vous souhaitez définir des couleurs personnalisées, vous pouvez utiliser l'argument color et saisir un tableau de couleurs. Notez que vous pouvez contrôler la transparence des couleurs avec alpha."
   ]
  },
  {
   "cell_type": "code",
   "execution_count": 50,
   "metadata": {},
   "outputs": [
    {
     "data": {
      "text/plain": [
       "(0.0, 100.0, 0.0, 100.0)"
      ]
     },
     "execution_count": 50,
     "metadata": {},
     "output_type": "execute_result"
    },
    {
     "data": {
      "image/png": "[encoded data removed]",
      "text/plain": [
       "<Figure size 640x480 with 1 Axes>"
      ]
     },
     "metadata": {},
     "output_type": "display_data"
    }
   ],
   "source": [
    "# Sample data\n",
    "values = df['py-score']\n",
    "colors = ['#91DCEA', '#64CDCC', '#5FBB68',\n",
    "          '#F9D23C', '#F9A729', '#FD6F30']\n",
    "\n",
    "squarify.plot(sizes = values,\n",
    "              color = colors, alpha = 0.7)\n",
    "\n",
    "# Remove the axis:\n",
    "plt.axis(\"off\")\n",
    "\n",
    "# plt.show()"
   ]
  },
  {
   "cell_type": "markdown",
   "metadata": {},
   "source": [
    "Vous pouvez également utiliser une palette de couleurs prédéfinie au lieu de spécifier un tableau de couleurs. Dans l'exemple ci-dessous, nous utilisons la palette de couleurs « magma » de Seaborn."
   ]
  },
  {
   "cell_type": "code",
   "execution_count": 51,
   "metadata": {},
   "outputs": [
    {
     "data": {
      "text/plain": [
       "(0.0, 100.0, 0.0, 100.0)"
      ]
     },
     "execution_count": 51,
     "metadata": {},
     "output_type": "execute_result"
    },
    {
     "data": {
      "image/png": "[encoded data removed]",
      "text/plain": [
       "<Figure size 640x480 with 1 Axes>"
      ]
     },
     "metadata": {},
     "output_type": "display_data"
    }
   ],
   "source": [
    "#Sample data\n",
    "values = df['py-score']\n",
    "\n",
    "# Treemap\n",
    "squarify.plot(sizes = values,\n",
    "              color = sb.color_palette(\"magma\", \n",
    "                                     len(values)), alpha = 0.7)\n",
    "\n",
    "# Remove the axis:\n",
    "plt.axis(\"off\")\n",
    "\n",
    "# plt.show()"
   ]
  },
  {
   "cell_type": "code",
   "execution_count": 75,
   "metadata": {},
   "outputs": [],
   "source": [
    "df[\"py_cat\"] = pd.qcut(df[\"py-score\"], 3, labels = [ 3, 2, 1]) \n",
    "df[\"age_cat\"] = pd.qcut(df[\"age\"], 2 , labels = [0, 1])"
   ]
  },
  {
   "cell_type": "code",
   "execution_count": 78,
   "metadata": {},
   "outputs": [],
   "source": [
    "df['py_cat']=df['py_cat'].astype(int)\n",
    "df['age']=df['age'].astype(int)"
   ]
  },
  {
   "cell_type": "code",
   "execution_count": 81,
   "metadata": {},
   "outputs": [],
   "source": [
    "df['age_py_score']=df['py_cat'].astype(int)+df['age_cat'].astype(int)"
   ]
  },
  {
   "cell_type": "code",
   "execution_count": 67,
   "metadata": {},
   "outputs": [
    {
     "data": {
      "text/plain": [
       "name          object\n",
       "city          object\n",
       "age            int64\n",
       "py-score     float64\n",
       "py_cat      category\n",
       "dtype: object"
      ]
     },
     "execution_count": 67,
     "metadata": {},
     "output_type": "execute_result"
    }
   ],
   "source": [
    "df.dtypes"
   ]
  },
  {
   "cell_type": "code",
   "execution_count": 82,
   "metadata": {},
   "outputs": [
    {
     "data": {
      "text/html": [
       "<div>\n",
       "<style scoped>\n",
       "    .dataframe tbody tr th:only-of-type {\n",
       "        vertical-align: middle;\n",
       "    }\n",
       "\n",
       "    .dataframe tbody tr th {\n",
       "        vertical-align: top;\n",
       "    }\n",
       "\n",
       "    .dataframe thead th {\n",
       "        text-align: right;\n",
       "    }\n",
       "</style>\n",
       "<table border=\"1\" class=\"dataframe\">\n",
       "  <thead>\n",
       "    <tr style=\"text-align: right;\">\n",
       "      <th></th>\n",
       "      <th>name</th>\n",
       "      <th>city</th>\n",
       "      <th>age</th>\n",
       "      <th>py-score</th>\n",
       "      <th>py_cat</th>\n",
       "      <th>py_cat2</th>\n",
       "      <th>age_cat</th>\n",
       "      <th>age_py_score</th>\n",
       "    </tr>\n",
       "  </thead>\n",
       "  <tbody>\n",
       "    <tr>\n",
       "      <th>0</th>\n",
       "      <td>Xavier</td>\n",
       "      <td>Mexico City</td>\n",
       "      <td>41</td>\n",
       "      <td>88.0</td>\n",
       "      <td>1</td>\n",
       "      <td>0.148155</td>\n",
       "      <td>0</td>\n",
       "      <td>1</td>\n",
       "    </tr>\n",
       "    <tr>\n",
       "      <th>1</th>\n",
       "      <td>Ann</td>\n",
       "      <td>Toronto</td>\n",
       "      <td>28</td>\n",
       "      <td>79.0</td>\n",
       "      <td>2</td>\n",
       "      <td>0.296310</td>\n",
       "      <td>0</td>\n",
       "      <td>2</td>\n",
       "    </tr>\n",
       "    <tr>\n",
       "      <th>2</th>\n",
       "      <td>Jana</td>\n",
       "      <td>Prague</td>\n",
       "      <td>33</td>\n",
       "      <td>81.0</td>\n",
       "      <td>1</td>\n",
       "      <td>0.148155</td>\n",
       "      <td>0</td>\n",
       "      <td>1</td>\n",
       "    </tr>\n",
       "    <tr>\n",
       "      <th>3</th>\n",
       "      <td>Yi</td>\n",
       "      <td>Shanghai</td>\n",
       "      <td>34</td>\n",
       "      <td>80.0</td>\n",
       "      <td>1</td>\n",
       "      <td>0.148155</td>\n",
       "      <td>0</td>\n",
       "      <td>1</td>\n",
       "    </tr>\n",
       "    <tr>\n",
       "      <th>4</th>\n",
       "      <td>Robin</td>\n",
       "      <td>Manchester</td>\n",
       "      <td>38</td>\n",
       "      <td>68.0</td>\n",
       "      <td>2</td>\n",
       "      <td>0.296310</td>\n",
       "      <td>0</td>\n",
       "      <td>2</td>\n",
       "    </tr>\n",
       "    <tr>\n",
       "      <th>5</th>\n",
       "      <td>Amal</td>\n",
       "      <td>Cairo</td>\n",
       "      <td>31</td>\n",
       "      <td>61.0</td>\n",
       "      <td>3</td>\n",
       "      <td>0.444465</td>\n",
       "      <td>0</td>\n",
       "      <td>3</td>\n",
       "    </tr>\n",
       "    <tr>\n",
       "      <th>6</th>\n",
       "      <td>Nori</td>\n",
       "      <td>Osaka</td>\n",
       "      <td>37</td>\n",
       "      <td>84.0</td>\n",
       "      <td>1</td>\n",
       "      <td>0.148155</td>\n",
       "      <td>0</td>\n",
       "      <td>1</td>\n",
       "    </tr>\n",
       "    <tr>\n",
       "      <th>7</th>\n",
       "      <td>Liam</td>\n",
       "      <td>Mexico City</td>\n",
       "      <td>64</td>\n",
       "      <td>76.8</td>\n",
       "      <td>2</td>\n",
       "      <td>0.296310</td>\n",
       "      <td>1</td>\n",
       "      <td>3</td>\n",
       "    </tr>\n",
       "    <tr>\n",
       "      <th>8</th>\n",
       "      <td>Noah</td>\n",
       "      <td>Toronto</td>\n",
       "      <td>72</td>\n",
       "      <td>69.1</td>\n",
       "      <td>2</td>\n",
       "      <td>0.296310</td>\n",
       "      <td>1</td>\n",
       "      <td>3</td>\n",
       "    </tr>\n",
       "    <tr>\n",
       "      <th>9</th>\n",
       "      <td>Olivia</td>\n",
       "      <td>Prague</td>\n",
       "      <td>44</td>\n",
       "      <td>77.2</td>\n",
       "      <td>2</td>\n",
       "      <td>0.296310</td>\n",
       "      <td>0</td>\n",
       "      <td>2</td>\n",
       "    </tr>\n",
       "    <tr>\n",
       "      <th>10</th>\n",
       "      <td>Oliver</td>\n",
       "      <td>Shanghai</td>\n",
       "      <td>73</td>\n",
       "      <td>97.3</td>\n",
       "      <td>1</td>\n",
       "      <td>0.148155</td>\n",
       "      <td>1</td>\n",
       "      <td>2</td>\n",
       "    </tr>\n",
       "    <tr>\n",
       "      <th>11</th>\n",
       "      <td>William</td>\n",
       "      <td>Manchester</td>\n",
       "      <td>53</td>\n",
       "      <td>24.6</td>\n",
       "      <td>3</td>\n",
       "      <td>0.444465</td>\n",
       "      <td>1</td>\n",
       "      <td>4</td>\n",
       "    </tr>\n",
       "    <tr>\n",
       "      <th>12</th>\n",
       "      <td>Ava</td>\n",
       "      <td>Cairo</td>\n",
       "      <td>74</td>\n",
       "      <td>71.1</td>\n",
       "      <td>2</td>\n",
       "      <td>0.296310</td>\n",
       "      <td>1</td>\n",
       "      <td>3</td>\n",
       "    </tr>\n",
       "    <tr>\n",
       "      <th>13</th>\n",
       "      <td>James</td>\n",
       "      <td>Osaka</td>\n",
       "      <td>72</td>\n",
       "      <td>52.2</td>\n",
       "      <td>3</td>\n",
       "      <td>0.444465</td>\n",
       "      <td>1</td>\n",
       "      <td>4</td>\n",
       "    </tr>\n",
       "    <tr>\n",
       "      <th>14</th>\n",
       "      <td>Emma</td>\n",
       "      <td>Toronto</td>\n",
       "      <td>34</td>\n",
       "      <td>77.1</td>\n",
       "      <td>2</td>\n",
       "      <td>0.296310</td>\n",
       "      <td>0</td>\n",
       "      <td>2</td>\n",
       "    </tr>\n",
       "    <tr>\n",
       "      <th>15</th>\n",
       "      <td>Elijah</td>\n",
       "      <td>Shanghai</td>\n",
       "      <td>89</td>\n",
       "      <td>77.7</td>\n",
       "      <td>2</td>\n",
       "      <td>0.296310</td>\n",
       "      <td>1</td>\n",
       "      <td>3</td>\n",
       "    </tr>\n",
       "    <tr>\n",
       "      <th>16</th>\n",
       "      <td>Benjamin</td>\n",
       "      <td>Mexico City</td>\n",
       "      <td>44</td>\n",
       "      <td>62.8</td>\n",
       "      <td>3</td>\n",
       "      <td>0.444465</td>\n",
       "      <td>0</td>\n",
       "      <td>3</td>\n",
       "    </tr>\n",
       "    <tr>\n",
       "      <th>17</th>\n",
       "      <td>Evelyn</td>\n",
       "      <td>Toronto</td>\n",
       "      <td>51</td>\n",
       "      <td>87.5</td>\n",
       "      <td>1</td>\n",
       "      <td>0.148155</td>\n",
       "      <td>1</td>\n",
       "      <td>2</td>\n",
       "    </tr>\n",
       "    <tr>\n",
       "      <th>18</th>\n",
       "      <td>Lucas</td>\n",
       "      <td>Mexico City</td>\n",
       "      <td>43</td>\n",
       "      <td>58.7</td>\n",
       "      <td>3</td>\n",
       "      <td>0.444465</td>\n",
       "      <td>0</td>\n",
       "      <td>3</td>\n",
       "    </tr>\n",
       "    <tr>\n",
       "      <th>19</th>\n",
       "      <td>Henry</td>\n",
       "      <td>Manchester</td>\n",
       "      <td>43</td>\n",
       "      <td>25.7</td>\n",
       "      <td>3</td>\n",
       "      <td>0.444465</td>\n",
       "      <td>0</td>\n",
       "      <td>3</td>\n",
       "    </tr>\n",
       "    <tr>\n",
       "      <th>20</th>\n",
       "      <td>Alexander</td>\n",
       "      <td>Mexico City</td>\n",
       "      <td>95</td>\n",
       "      <td>88.6</td>\n",
       "      <td>1</td>\n",
       "      <td>0.148155</td>\n",
       "      <td>1</td>\n",
       "      <td>2</td>\n",
       "    </tr>\n",
       "    <tr>\n",
       "      <th>21</th>\n",
       "      <td>Eleanor</td>\n",
       "      <td>Toronto</td>\n",
       "      <td>85</td>\n",
       "      <td>37.1</td>\n",
       "      <td>3</td>\n",
       "      <td>0.444465</td>\n",
       "      <td>1</td>\n",
       "      <td>4</td>\n",
       "    </tr>\n",
       "    <tr>\n",
       "      <th>22</th>\n",
       "      <td>Penelope</td>\n",
       "      <td>Mexico City</td>\n",
       "      <td>21</td>\n",
       "      <td>98.8</td>\n",
       "      <td>1</td>\n",
       "      <td>0.148155</td>\n",
       "      <td>0</td>\n",
       "      <td>1</td>\n",
       "    </tr>\n",
       "    <tr>\n",
       "      <th>23</th>\n",
       "      <td>Theodore</td>\n",
       "      <td>Mexico City</td>\n",
       "      <td>77</td>\n",
       "      <td>54.3</td>\n",
       "      <td>3</td>\n",
       "      <td>0.444465</td>\n",
       "      <td>1</td>\n",
       "      <td>4</td>\n",
       "    </tr>\n",
       "  </tbody>\n",
       "</table>\n",
       "</div>"
      ],
      "text/plain": [
       "         name         city  age  py-score  py_cat   py_cat2 age_cat  \\\n",
       "0      Xavier  Mexico City   41      88.0       1  0.148155       0   \n",
       "1         Ann      Toronto   28      79.0       2  0.296310       0   \n",
       "2        Jana       Prague   33      81.0       1  0.148155       0   \n",
       "3          Yi     Shanghai   34      80.0       1  0.148155       0   \n",
       "4       Robin   Manchester   38      68.0       2  0.296310       0   \n",
       "5        Amal        Cairo   31      61.0       3  0.444465       0   \n",
       "6        Nori        Osaka   37      84.0       1  0.148155       0   \n",
       "7        Liam  Mexico City   64      76.8       2  0.296310       1   \n",
       "8        Noah      Toronto   72      69.1       2  0.296310       1   \n",
       "9      Olivia       Prague   44      77.2       2  0.296310       0   \n",
       "10     Oliver     Shanghai   73      97.3       1  0.148155       1   \n",
       "11    William   Manchester   53      24.6       3  0.444465       1   \n",
       "12        Ava        Cairo   74      71.1       2  0.296310       1   \n",
       "13      James        Osaka   72      52.2       3  0.444465       1   \n",
       "14       Emma      Toronto   34      77.1       2  0.296310       0   \n",
       "15     Elijah     Shanghai   89      77.7       2  0.296310       1   \n",
       "16   Benjamin  Mexico City   44      62.8       3  0.444465       0   \n",
       "17     Evelyn      Toronto   51      87.5       1  0.148155       1   \n",
       "18      Lucas  Mexico City   43      58.7       3  0.444465       0   \n",
       "19      Henry   Manchester   43      25.7       3  0.444465       0   \n",
       "20  Alexander  Mexico City   95      88.6       1  0.148155       1   \n",
       "21    Eleanor      Toronto   85      37.1       3  0.444465       1   \n",
       "22   Penelope  Mexico City   21      98.8       1  0.148155       0   \n",
       "23   Theodore  Mexico City   77      54.3       3  0.444465       1   \n",
       "\n",
       "    age_py_score  \n",
       "0              1  \n",
       "1              2  \n",
       "2              1  \n",
       "3              1  \n",
       "4              2  \n",
       "5              3  \n",
       "6              1  \n",
       "7              3  \n",
       "8              3  \n",
       "9              2  \n",
       "10             2  \n",
       "11             4  \n",
       "12             3  \n",
       "13             4  \n",
       "14             2  \n",
       "15             3  \n",
       "16             3  \n",
       "17             2  \n",
       "18             3  \n",
       "19             3  \n",
       "20             2  \n",
       "21             4  \n",
       "22             1  \n",
       "23             4  "
      ]
     },
     "execution_count": 82,
     "metadata": {},
     "output_type": "execute_result"
    }
   ],
   "source": [
    "df"
   ]
  },
  {
   "cell_type": "code",
   "execution_count": 85,
   "metadata": {},
   "outputs": [
    {
     "data": {
      "text/plain": [
       "array([1, 2, 3, 4])"
      ]
     },
     "execution_count": 85,
     "metadata": {},
     "output_type": "execute_result"
    }
   ],
   "source": [
    "df['age_py_score'].unique()"
   ]
  },
  {
   "cell_type": "code",
   "execution_count": 87,
   "metadata": {},
   "outputs": [
    {
     "data": {
      "text/plain": [
       "age_py_score\n",
       "1    5\n",
       "2    7\n",
       "3    8\n",
       "4    4\n",
       "Name: count, dtype: int64"
      ]
     },
     "execution_count": 87,
     "metadata": {},
     "output_type": "execute_result"
    }
   ],
   "source": [
    "df['age_py_score'].value_counts(sort=False)"
   ]
  },
  {
   "cell_type": "code",
   "execution_count": 88,
   "metadata": {},
   "outputs": [
    {
     "data": {
      "text/plain": [
       "(0.0, 100.0, 0.0, 100.0)"
      ]
     },
     "execution_count": 88,
     "metadata": {},
     "output_type": "execute_result"
    },
    {
     "data": {
      "image/png": "[encoded data removed]",
      "text/plain": [
       "<Figure size 640x480 with 1 Axes>"
      ]
     },
     "metadata": {},
     "output_type": "display_data"
    }
   ],
   "source": [
    "# Sample data\n",
    "\n",
    "values = list(df['age_py_score'].value_counts(sort=False))\n",
    "labels = ['Group 1\\n Très faible', 'Group 2\\n Faible','Group 4\\n fort','Group 4\\n Très fort']\n",
    "colors = ['#91DCEA', '#64CDCC','#F9A729','#FD6F30']\n",
    "#colors = ['#91DCEA', '#64CDCC', '#5FBB68','#F9D23C', '#F9A729', '#FD6F30']\n",
    "# Treemap\n",
    "squarify.plot(sizes = values, label = labels,\n",
    "              color = colors, alpha = 0.7)\n",
    "\n",
    "# Remove the axis:\n",
    "plt.axis(\"off\")\n",
    "\n",
    "# plt.show()"
   ]
  },
  {
   "cell_type": "markdown",
   "metadata": {},
   "source": [
    "# Labels customization\n",
    "\n",
    "The text styling of the labels can be overriden passing a dict to text_kwargs. In the following example we are customizing the font size and the color of the texts, as the color palette used is very dark and white text will be easier to read."
   ]
  },
  {
   "cell_type": "code",
   "execution_count": 89,
   "metadata": {},
   "outputs": [
    {
     "data": {
      "text/plain": [
       "(0.0, 100.0, 0.0, 100.0)"
      ]
     },
     "execution_count": 89,
     "metadata": {},
     "output_type": "execute_result"
    },
    {
     "data": {
      "image/png": "[encoded data removed]",
      "text/plain": [
       "<Figure size 640x480 with 1 Axes>"
      ]
     },
     "metadata": {},
     "output_type": "display_data"
    }
   ],
   "source": [
    "# Sample data\n",
    "values = list(df['age_py_score'].value_counts(sort=False))\n",
    "labels = ['Group 1\\n Très faible', 'Group 2\\n Faible','Group 4\\n fort','Group 4\\n Très fort']\n",
    "# Treemap\n",
    "squarify.plot(sizes = values, label = labels,\n",
    "              pad = 0.2,\n",
    "              text_kwargs = {'fontsize': 10, 'color': 'white'},\n",
    "              color = sb.color_palette(\"rocket\", len(values)))\n",
    "\n",
    "# Remove the axis:\n",
    "plt.axis(\"off\")\n",
    "\n",
    "# plt.show()"
   ]
  }
 ],
 "metadata": {
  "kernelspec": {
   "display_name": "pythonCourses",
   "language": "python",
   "name": "python3"
  },
  "language_info": {
   "codemirror_mode": {
    "name": "ipython",
    "version": 3
   },
   "file_extension": ".py",
   "mimetype": "text/x-python",
   "name": "python",
   "nbconvert_exporter": "python",
   "pygments_lexer": "ipython3",
   "version": "3.11.4"
  },
  "orig_nbformat": 4
 },
 "nbformat": 4,
 "nbformat_minor": 2
}
