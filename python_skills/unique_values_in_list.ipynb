{
 "cells": [
  {
   "cell_type": "markdown",
   "metadata": {},
   "source": [
    "Obtenir des valeurs uniques à partir d'une liste en Python"
   ]
  },
  {
   "cell_type": "markdown",
   "metadata": {},
   "source": [
    "1. Méthode Python set()\n",
    "2. Utilisation de la méthode Python list.append() avec une boucle for\n",
    "3. Utilisation de la méthode Python numpy.unique()\n"
   ]
  },
  {
   "cell_type": "markdown",
   "metadata": {},
   "source": [
    "## 1. Python Set() pour obtenir des valeurs uniques à partir d'une liste"
   ]
  },
  {
   "cell_type": "code",
   "execution_count": 1,
   "metadata": {},
   "outputs": [
    {
     "name": "stdout",
     "output_type": "stream",
     "text": [
      "The unique elements of the input list using set():\n",
      "\n",
      "100\n",
      "75\n",
      "12\n",
      "20\n",
      "25\n"
     ]
    }
   ],
   "source": [
    "list_inp = [100, 75, 100, 20, 75, 12, 75, 25] \n",
    "\n",
    "set_res = set(list_inp) \n",
    "print(\"The unique elements of the input list using set():\\n\") \n",
    "list_res = (list(set_res))\n",
    " \n",
    "for item in list_res: \n",
    "    print(item) "
   ]
  },
  {
   "cell_type": "markdown",
   "metadata": {},
   "source": [
    "## 2. Python list.append() et boucle for"
   ]
  },
  {
   "cell_type": "code",
   "execution_count": 2,
   "metadata": {},
   "outputs": [
    {
     "name": "stdout",
     "output_type": "stream",
     "text": [
      "Unique elements of the list using append():\n",
      "\n",
      "100\n",
      "75\n",
      "20\n",
      "12\n",
      "25\n"
     ]
    }
   ],
   "source": [
    "list_inp = [100, 75, 100, 20, 75, 12, 75, 25] \n",
    "\n",
    "res_list = []\n",
    "\n",
    "for item in list_inp: \n",
    "    if item not in res_list: \n",
    "        res_list.append(item) \n",
    "\n",
    "print(\"Unique elements of the list using append():\\n\")    \n",
    "for item in res_list: \n",
    "    print(item) "
   ]
  },
  {
   "cell_type": "markdown",
   "metadata": {},
   "source": [
    "3. Fonction Python numpy.unique() pour créer une liste avec des éléments uniques"
   ]
  },
  {
   "cell_type": "code",
   "execution_count": 3,
   "metadata": {},
   "outputs": [
    {
     "name": "stdout",
     "output_type": "stream",
     "text": [
      "Unique elements of the list using numpy.unique():\n",
      "\n",
      "[ 12  20  25  75 100]\n"
     ]
    }
   ],
   "source": [
    "import numpy as N\n",
    "list_inp = [100, 75, 100, 20, 75, 12, 75, 25] \n",
    "\n",
    "res = N.array(list_inp) \n",
    "unique_res = N.unique(res) \n",
    "print(\"Unique elements of the list using numpy.unique():\\n\")\n",
    "print(unique_res)"
   ]
  }
 ],
 "metadata": {
  "kernelspec": {
   "display_name": "pythonCourses",
   "language": "python",
   "name": "python3"
  },
  "language_info": {
   "codemirror_mode": {
    "name": "ipython",
    "version": 3
   },
   "file_extension": ".py",
   "mimetype": "text/x-python",
   "name": "python",
   "nbconvert_exporter": "python",
   "pygments_lexer": "ipython3",
   "version": "3.11.4"
  },
  "orig_nbformat": 4
 },
 "nbformat": 4,
 "nbformat_minor": 2
}
