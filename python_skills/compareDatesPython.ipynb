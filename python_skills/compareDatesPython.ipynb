{
 "cells": [
  {
   "cell_type": "code",
   "execution_count": 1,
   "metadata": {},
   "outputs": [
    {
     "name": "stdout",
     "output_type": "stream",
     "text": [
      "First date is less than the second date.\n"
     ]
    }
   ],
   "source": [
    "\n",
    "import time\n",
    " \n",
    "if __name__ == '__main__':\n",
    " \n",
    "    x = \"01/01/2020\"\n",
    "    y = \"01/31/2020\"\n",
    " \n",
    "    first = time.strptime(x, \"%m/%d/%Y\")\n",
    "    second = time.strptime(y, \"%m/%d/%Y\")\n",
    " \n",
    "    if first < second:\n",
    "        print('First date is less than the second date.')\n",
    "    elif first > second:\n",
    "        print('First date is more than the second date.')\n",
    "    else:\n",
    "        print('Both dates are the same.')\n",
    " "
   ]
  },
  {
   "cell_type": "code",
   "execution_count": 4,
   "metadata": {},
   "outputs": [],
   "source": [
    "from datetime import datetime, date, time"
   ]
  },
  {
   "cell_type": "code",
   "execution_count": 7,
   "metadata": {},
   "outputs": [
    {
     "data": {
      "text/plain": [
       "datetime.date(2022, 3, 27)"
      ]
     },
     "execution_count": 7,
     "metadata": {},
     "output_type": "execute_result"
    }
   ],
   "source": [
    "date1 = date(2022,3,27)\n",
    "date1"
   ]
  },
  {
   "cell_type": "code",
   "execution_count": 9,
   "metadata": {},
   "outputs": [
    {
     "name": "stdout",
     "output_type": "stream",
     "text": [
      "13:27:45.004600\n"
     ]
    }
   ],
   "source": [
    "time1 =time(13,27,45,4600)\n",
    "print(time1)\n"
   ]
  },
  {
   "cell_type": "markdown",
   "metadata": {},
   "source": [
    "How to use timedelta object in Python"
   ]
  },
  {
   "cell_type": "code",
   "execution_count": 10,
   "metadata": {},
   "outputs": [
    {
     "name": "stdout",
     "output_type": "stream",
     "text": [
      "95 days, 1:00:14.954000\n",
      "<class 'datetime.timedelta'>\n"
     ]
    }
   ],
   "source": [
    "dt1 = datetime(2022,3,27,13,27,45,46000) \n",
    "dt2 = datetime(2022,6,30,14,28) \n",
    "tdelta = dt2 - dt1 \n",
    "print(tdelta) \n",
    "print(type(tdelta)) "
   ]
  },
  {
   "cell_type": "markdown",
   "metadata": {},
   "source": [
    "How to find time difference between two dates"
   ]
  },
  {
   "cell_type": "code",
   "execution_count": 11,
   "metadata": {},
   "outputs": [
    {
     "name": "stdout",
     "output_type": "stream",
     "text": [
      "2023-09-02 16:14:43.846811\n"
     ]
    }
   ],
   "source": [
    "today =datetime.now()\n",
    "print(today)"
   ]
  },
  {
   "cell_type": "code",
   "execution_count": 13,
   "metadata": {},
   "outputs": [
    {
     "name": "stdout",
     "output_type": "stream",
     "text": [
      "2023-11-27 01:11:00\n"
     ]
    }
   ],
   "source": [
    "bday = datetime(2023,11,27,1,11)\n",
    "print(bday)"
   ]
  },
  {
   "cell_type": "code",
   "execution_count": 15,
   "metadata": {},
   "outputs": [
    {
     "name": "stdout",
     "output_type": "stream",
     "text": [
      "Your birthday is in 85 days, 8:56:16.153189\n"
     ]
    }
   ],
   "source": [
    "time_diff = bday - today\n",
    "print(f\"Your birthday is in {time_diff}\")"
   ]
  },
  {
   "cell_type": "code",
   "execution_count": 16,
   "metadata": {},
   "outputs": [
    {
     "name": "stdout",
     "output_type": "stream",
     "text": [
      "Your birthday is in 85 days.\n"
     ]
    }
   ],
   "source": [
    "tdays = time_diff.days\n",
    "print(f\"Your birthday is in {tdays} days.\")"
   ]
  },
  {
   "cell_type": "markdown",
   "metadata": {},
   "source": [
    "How to find time difference in seconds"
   ]
  },
  {
   "cell_type": "code",
   "execution_count": 17,
   "metadata": {},
   "outputs": [
    {
     "name": "stdout",
     "output_type": "stream",
     "text": [
      "Your birthday is 7376176.153189 seconds away.\n"
     ]
    }
   ],
   "source": [
    "tsecs = time_diff.total_seconds()\n",
    "print(f\"Your birthday is {tsecs} seconds away.\")"
   ]
  },
  {
   "cell_type": "markdown",
   "metadata": {},
   "source": [
    "How to find time difference in minutes"
   ]
  },
  {
   "cell_type": "code",
   "execution_count": 18,
   "metadata": {},
   "outputs": [
    {
     "name": "stdout",
     "output_type": "stream",
     "text": [
      "Your birthday is 122936.26921981666 minutes away.\n"
     ]
    }
   ],
   "source": [
    "tmins = tsecs/60\n",
    "print(f\"Your birthday is {tmins} minutes away.\")"
   ]
  },
  {
   "cell_type": "markdown",
   "metadata": {},
   "source": [
    "How to find time difference in hours"
   ]
  },
  {
   "cell_type": "code",
   "execution_count": 19,
   "metadata": {},
   "outputs": [
    {
     "name": "stdout",
     "output_type": "stream",
     "text": [
      "Your birthday is 2048.9378203302776 hours away.\n"
     ]
    }
   ],
   "source": [
    "thrs = tsecs/(60*60)\n",
    "print(f\"Your birthday is {thrs} hours away.\")"
   ]
  },
  {
   "cell_type": "markdown",
   "metadata": {},
   "source": [
    "# How to add Months to a Date in Python\n",
    "## Add months to a date in Python"
   ]
  },
  {
   "cell_type": "code",
   "execution_count": 8,
   "metadata": {},
   "outputs": [],
   "source": [
    "from datetime import datetime, date, time\n",
    "from dateutil.relativedelta import relativedelta"
   ]
  },
  {
   "cell_type": "code",
   "execution_count": 3,
   "metadata": {},
   "outputs": [
    {
     "name": "stdout",
     "output_type": "stream",
     "text": [
      "2023-06-24\n"
     ]
    }
   ],
   "source": [
    "date1=date(2023, 6,24)\n",
    "print(date1)"
   ]
  },
  {
   "cell_type": "code",
   "execution_count": 6,
   "metadata": {},
   "outputs": [
    {
     "name": "stdout",
     "output_type": "stream",
     "text": [
      "2023-09-24\n"
     ]
    }
   ],
   "source": [
    "result=date1 + relativedelta(months=+3)\n",
    "print(result)"
   ]
  },
  {
   "cell_type": "markdown",
   "metadata": {},
   "source": [
    "##  Add months to the current date"
   ]
  },
  {
   "cell_type": "code",
   "execution_count": 15,
   "metadata": {},
   "outputs": [
    {
     "name": "stdout",
     "output_type": "stream",
     "text": [
      "2023-10-19\n"
     ]
    }
   ],
   "source": [
    "date_1=date.today()\n",
    "print(date_1)"
   ]
  },
  {
   "cell_type": "code",
   "execution_count": 17,
   "metadata": {},
   "outputs": [
    {
     "name": "stdout",
     "output_type": "stream",
     "text": [
      "2023-12-19\n"
     ]
    }
   ],
   "source": [
    "result=date_1 + relativedelta(months=+2)\n",
    "print(result)"
   ]
  },
  {
   "cell_type": "markdown",
   "metadata": {},
   "source": [
    "## Extracting the date after adding months"
   ]
  },
  {
   "cell_type": "code",
   "execution_count": 10,
   "metadata": {},
   "outputs": [
    {
     "name": "stdout",
     "output_type": "stream",
     "text": [
      "2023-10-19 22:33:21.253504\n"
     ]
    }
   ],
   "source": [
    "now=datetime.now()\n",
    "print(now)"
   ]
  },
  {
   "cell_type": "code",
   "execution_count": 11,
   "metadata": {},
   "outputs": [
    {
     "name": "stdout",
     "output_type": "stream",
     "text": [
      "2024-03-19 22:33:21.253504\n"
     ]
    }
   ],
   "source": [
    "result=now + relativedelta(months=+5)\n",
    "print(result)"
   ]
  },
  {
   "cell_type": "code",
   "execution_count": 13,
   "metadata": {},
   "outputs": [
    {
     "name": "stdout",
     "output_type": "stream",
     "text": [
      "2024-03-19\n"
     ]
    }
   ],
   "source": [
    "print(result.date())"
   ]
  },
  {
   "cell_type": "markdown",
   "metadata": {},
   "source": [
    "## sing a formatted-string literal to format the date"
   ]
  },
  {
   "cell_type": "code",
   "execution_count": 14,
   "metadata": {},
   "outputs": [
    {
     "name": "stdout",
     "output_type": "stream",
     "text": [
      "2024-03-19 22:33:21\n"
     ]
    }
   ],
   "source": [
    "print(f'{result:%Y-%m-%d %H:%M:%S}') "
   ]
  },
  {
   "cell_type": "markdown",
   "metadata": {},
   "source": [
    "## Creating a datetime object from a date string and adding months"
   ]
  },
  {
   "cell_type": "code",
   "execution_count": 19,
   "metadata": {},
   "outputs": [
    {
     "name": "stdout",
     "output_type": "stream",
     "text": [
      "2024-09-04 00:00:00\n"
     ]
    }
   ],
   "source": [
    "my_str='09-04-2024'\n",
    "date_1=datetime.strptime(my_str, '%m-%d-%Y')\n",
    "print(date_1)"
   ]
  },
  {
   "cell_type": "code",
   "execution_count": 20,
   "metadata": {},
   "outputs": [
    {
     "name": "stdout",
     "output_type": "stream",
     "text": [
      "2024-11-04 00:00:00\n"
     ]
    }
   ],
   "source": [
    "result=date_1 + relativedelta(months=+2)\n",
    "print(result)"
   ]
  },
  {
   "cell_type": "markdown",
   "metadata": {},
   "source": [
    "## Adding months to the current date using a datetime object"
   ]
  },
  {
   "cell_type": "code",
   "execution_count": 21,
   "metadata": {},
   "outputs": [
    {
     "name": "stdout",
     "output_type": "stream",
     "text": [
      "2023-10-19 23:00:05.877029\n",
      "2024-01-19 23:00:05.877029\n"
     ]
    }
   ],
   "source": [
    "date_1 = datetime.today()\n",
    "print(date_1)\n",
    "\n",
    "result = date_1 + relativedelta(months=+3)\n",
    "print(result)  "
   ]
  },
  {
   "cell_type": "markdown",
   "metadata": {},
   "source": [
    "# How to add Milliseconds to Datetime in Python"
   ]
  },
  {
   "cell_type": "markdown",
   "metadata": {},
   "source": [
    "## Add milliseconds to datetime in Python"
   ]
  },
  {
   "cell_type": "code",
   "execution_count": 22,
   "metadata": {},
   "outputs": [
    {
     "name": "stdout",
     "output_type": "stream",
     "text": [
      "2023-11-24 09:30:00.000123\n",
      "2023-11-24 09:30:00.300123\n"
     ]
    }
   ],
   "source": [
    "from datetime import datetime, timedelta\n",
    "\n",
    "d = '2023-11-24 09:30:00.000123'\n",
    "\n",
    "# convert string to datetime object\n",
    "dt = datetime.strptime(d, '%Y-%m-%d %H:%M:%S.%f')\n",
    "\n",
    "print(dt)  # 2023-11-24 09:30:00.000123\n",
    "\n",
    "result = dt + timedelta(milliseconds=300)\n",
    "print(result)  # 2023-11-24 09:30:00.300123"
   ]
  },
  {
   "cell_type": "markdown",
   "metadata": {},
   "source": [
    "Using the datetime class to create a datetime object"
   ]
  },
  {
   "cell_type": "code",
   "execution_count": 23,
   "metadata": {},
   "outputs": [
    {
     "name": "stdout",
     "output_type": "stream",
     "text": [
      "2023-09-24 09:30:35\n",
      "2023-09-24 09:30:35.400000\n"
     ]
    }
   ],
   "source": [
    "dt = datetime(2023, 9, 24, 9, 30, 35)\n",
    "print(dt)  # 2023-09-24 09:30:35\n",
    "\n",
    "result = dt + timedelta(milliseconds=400)\n",
    "print(result)  # 2023-09-24 09:30:35.400000"
   ]
  },
  {
   "cell_type": "markdown",
   "metadata": {},
   "source": [
    "## Adding milliseconds to the current time"
   ]
  },
  {
   "cell_type": "code",
   "execution_count": 24,
   "metadata": {},
   "outputs": [
    {
     "name": "stdout",
     "output_type": "stream",
     "text": [
      "2023-10-19 23:13:07.603647\n",
      "2023-10-19 23:13:08.103647\n"
     ]
    }
   ],
   "source": [
    "now = datetime.today()\n",
    "print(now)  # 👉️ 2023-07-22 10:38:19.223431\n",
    "\n",
    "result = now + timedelta(milliseconds=500)\n",
    "print(result)  # 👉️ 2023-07-22 10:38:19.723431"
   ]
  },
  {
   "cell_type": "markdown",
   "metadata": {},
   "source": [
    "## Using the datetime.combine method to add milliseconds to a time"
   ]
  },
  {
   "cell_type": "code",
   "execution_count": 25,
   "metadata": {},
   "outputs": [
    {
     "name": "stdout",
     "output_type": "stream",
     "text": [
      "06:25:30.000123\n",
      "2023-10-19 06:25:30.400123\n",
      "06:25:30.400123\n"
     ]
    }
   ],
   "source": [
    "t = time(6, 25, 30, 123)\n",
    "print(t)  # 👉️ 06:25:30.000123\n",
    "\n",
    "result = datetime.combine(date.today(), t) + timedelta(milliseconds=400)\n",
    "print(result)  # 👉️ 2023-07-22 06:25:30.400123\n",
    "\n",
    "only_t = result.time()\n",
    "print(only_t)  # 👉️ 06:25:30.400123"
   ]
  },
  {
   "cell_type": "markdown",
   "metadata": {},
   "source": [
    "## Extracting the time component after adding milliseconds to a datetime"
   ]
  },
  {
   "cell_type": "code",
   "execution_count": 26,
   "metadata": {},
   "outputs": [
    {
     "name": "stdout",
     "output_type": "stream",
     "text": [
      "06:25:30.000123\n",
      "2023-10-19 06:25:30.400123\n",
      "06:25:30.400123\n"
     ]
    }
   ],
   "source": [
    "t = time(6, 25, 30, 123)\n",
    "print(t)  # 👉️ 06:25:30.000123\n",
    "\n",
    "result = datetime.combine(date.today(), t) + timedelta(milliseconds=400)\n",
    "print(result)  # 👉️ 2023-07-22 06:25:30.400123\n",
    "\n",
    "# ✅ only get updated time\n",
    "only_t = result.time()\n",
    "print(only_t)  # 👉️ 06:25:30.400123"
   ]
  },
  {
   "cell_type": "markdown",
   "metadata": {},
   "source": []
  }
 ],
 "metadata": {
  "kernelspec": {
   "display_name": "pythonCourses",
   "language": "python",
   "name": "python3"
  },
  "language_info": {
   "codemirror_mode": {
    "name": "ipython",
    "version": 3
   },
   "file_extension": ".py",
   "mimetype": "text/x-python",
   "name": "python",
   "nbconvert_exporter": "python",
   "pygments_lexer": "ipython3",
   "version": "3.11.4"
  },
  "orig_nbformat": 4
 },
 "nbformat": 4,
 "nbformat_minor": 2
}
