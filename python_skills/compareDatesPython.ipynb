{
 "cells": [
  {
   "cell_type": "code",
   "execution_count": 1,
   "metadata": {},
   "outputs": [
    {
     "name": "stdout",
     "output_type": "stream",
     "text": [
      "First date is less than the second date.\n"
     ]
    }
   ],
   "source": [
    "\n",
    "import time\n",
    " \n",
    "if __name__ == '__main__':\n",
    " \n",
    "    x = \"01/01/2020\"\n",
    "    y = \"01/31/2020\"\n",
    " \n",
    "    first = time.strptime(x, \"%m/%d/%Y\")\n",
    "    second = time.strptime(y, \"%m/%d/%Y\")\n",
    " \n",
    "    if first < second:\n",
    "        print('First date is less than the second date.')\n",
    "    elif first > second:\n",
    "        print('First date is more than the second date.')\n",
    "    else:\n",
    "        print('Both dates are the same.')\n",
    " "
   ]
  },
  {
   "cell_type": "code",
   "execution_count": 4,
   "metadata": {},
   "outputs": [],
   "source": [
    "from datetime import datetime, date, time"
   ]
  },
  {
   "cell_type": "code",
   "execution_count": 7,
   "metadata": {},
   "outputs": [
    {
     "data": {
      "text/plain": [
       "datetime.date(2022, 3, 27)"
      ]
     },
     "execution_count": 7,
     "metadata": {},
     "output_type": "execute_result"
    }
   ],
   "source": [
    "date1 = date(2022,3,27)\n",
    "date1"
   ]
  },
  {
   "cell_type": "code",
   "execution_count": 9,
   "metadata": {},
   "outputs": [
    {
     "name": "stdout",
     "output_type": "stream",
     "text": [
      "13:27:45.004600\n"
     ]
    }
   ],
   "source": [
    "time1 =time(13,27,45,4600)\n",
    "print(time1)\n"
   ]
  },
  {
   "cell_type": "markdown",
   "metadata": {},
   "source": [
    "How to use timedelta object in Python"
   ]
  },
  {
   "cell_type": "code",
   "execution_count": 10,
   "metadata": {},
   "outputs": [
    {
     "name": "stdout",
     "output_type": "stream",
     "text": [
      "95 days, 1:00:14.954000\n",
      "<class 'datetime.timedelta'>\n"
     ]
    }
   ],
   "source": [
    "dt1 = datetime(2022,3,27,13,27,45,46000) \n",
    "dt2 = datetime(2022,6,30,14,28) \n",
    "tdelta = dt2 - dt1 \n",
    "print(tdelta) \n",
    "print(type(tdelta)) "
   ]
  },
  {
   "cell_type": "markdown",
   "metadata": {},
   "source": [
    "How to find time difference between two dates"
   ]
  },
  {
   "cell_type": "code",
   "execution_count": 11,
   "metadata": {},
   "outputs": [
    {
     "name": "stdout",
     "output_type": "stream",
     "text": [
      "2023-09-02 16:14:43.846811\n"
     ]
    }
   ],
   "source": [
    "today =datetime.now()\n",
    "print(today)"
   ]
  },
  {
   "cell_type": "code",
   "execution_count": 13,
   "metadata": {},
   "outputs": [
    {
     "name": "stdout",
     "output_type": "stream",
     "text": [
      "2023-11-27 01:11:00\n"
     ]
    }
   ],
   "source": [
    "bday = datetime(2023,11,27,1,11)\n",
    "print(bday)"
   ]
  },
  {
   "cell_type": "code",
   "execution_count": 15,
   "metadata": {},
   "outputs": [
    {
     "name": "stdout",
     "output_type": "stream",
     "text": [
      "Your birthday is in 85 days, 8:56:16.153189\n"
     ]
    }
   ],
   "source": [
    "time_diff = bday - today\n",
    "print(f\"Your birthday is in {time_diff}\")"
   ]
  },
  {
   "cell_type": "code",
   "execution_count": 16,
   "metadata": {},
   "outputs": [
    {
     "name": "stdout",
     "output_type": "stream",
     "text": [
      "Your birthday is in 85 days.\n"
     ]
    }
   ],
   "source": [
    "tdays = time_diff.days\n",
    "print(f\"Your birthday is in {tdays} days.\")"
   ]
  },
  {
   "cell_type": "markdown",
   "metadata": {},
   "source": [
    "How to find time difference in seconds"
   ]
  },
  {
   "cell_type": "code",
   "execution_count": 17,
   "metadata": {},
   "outputs": [
    {
     "name": "stdout",
     "output_type": "stream",
     "text": [
      "Your birthday is 7376176.153189 seconds away.\n"
     ]
    }
   ],
   "source": [
    "tsecs = time_diff.total_seconds()\n",
    "print(f\"Your birthday is {tsecs} seconds away.\")"
   ]
  },
  {
   "cell_type": "markdown",
   "metadata": {},
   "source": [
    "How to find time difference in minutes"
   ]
  },
  {
   "cell_type": "code",
   "execution_count": 18,
   "metadata": {},
   "outputs": [
    {
     "name": "stdout",
     "output_type": "stream",
     "text": [
      "Your birthday is 122936.26921981666 minutes away.\n"
     ]
    }
   ],
   "source": [
    "tmins = tsecs/60\n",
    "print(f\"Your birthday is {tmins} minutes away.\")"
   ]
  },
  {
   "cell_type": "markdown",
   "metadata": {},
   "source": [
    "How to find time difference in hours"
   ]
  },
  {
   "cell_type": "code",
   "execution_count": 19,
   "metadata": {},
   "outputs": [
    {
     "name": "stdout",
     "output_type": "stream",
     "text": [
      "Your birthday is 2048.9378203302776 hours away.\n"
     ]
    }
   ],
   "source": [
    "thrs = tsecs/(60*60)\n",
    "print(f\"Your birthday is {thrs} hours away.\")"
   ]
  }
 ],
 "metadata": {
  "kernelspec": {
   "display_name": "pythonCourses",
   "language": "python",
   "name": "python3"
  },
  "language_info": {
   "codemirror_mode": {
    "name": "ipython",
    "version": 3
   },
   "file_extension": ".py",
   "mimetype": "text/x-python",
   "name": "python",
   "nbconvert_exporter": "python",
   "pygments_lexer": "ipython3",
   "version": "3.11.4"
  },
  "orig_nbformat": 4
 },
 "nbformat": 4,
 "nbformat_minor": 2
}
