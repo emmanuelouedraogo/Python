{
 "cells": [
  {
   "cell_type": "markdown",
   "metadata": {},
   "source": [
    "<div style=\"display:flex; background-color:blue\">\n",
    "<h1 style=\"margin:auto; font-weight: bold; padding: 30px 30 px 0px 30px; align:center\">How to Install packages <h1>"
   ]
  },
  {
   "cell_type": "markdown",
   "metadata": {},
   "source": [
    "<div style=\"display: flex; background-color: green\">\n",
    "<h3 style=\"margin: auto; font-weight: bold; pading:10px 10px 0px 10px;\n",
    "align: center\"> Installing packages with pip<h²3>\n",
    "<div>"
   ]
  },
  {
   "cell_type": "code",
   "execution_count": null,
   "metadata": {},
   "outputs": [],
   "source": [
    "pip install -U scikit-learn"
   ]
  },
  {
   "cell_type": "markdown",
   "metadata": {},
   "source": [
    "<div style=\"display: flex; background-color: green\">\n",
    "<h3 style=\"margin: auto; font-weight: bold; pading:10px 10px 0px 10px;\n",
    "align: center\"> Installing packages Alpine Linux<h3>\n",
    "<div>"
   ]
  },
  {
   "cell_type": "code",
   "execution_count": null,
   "metadata": {},
   "outputs": [],
   "source": [
    "sudo apk add py3-scikit-learn"
   ]
  },
  {
   "cell_type": "markdown",
   "metadata": {},
   "source": [
    "<div style=\"display: flex; background-color: green\">\n",
    "<h3 style=\"margin: auto; font-weight: bold; pading:10px 10px 0px 10px;\n",
    "align: center\"> Installing packages Arch Linux<h3>\n",
    "<div>"
   ]
  },
  {
   "cell_type": "code",
   "execution_count": null,
   "metadata": {},
   "outputs": [],
   "source": [
    "sudo pacman -S python-scikit-learn"
   ]
  },
  {
   "cell_type": "markdown",
   "metadata": {},
   "source": [
    "<div style=\"display: flex; background-color: green\">\n",
    "<h3 style=\"margin: auto; font-weight: bold; pading:10px 10px 0px 10px;\n",
    "align: center\"> Installing packages Debian/Ubuntu<h3>\n",
    "<div>"
   ]
  },
  {
   "cell_type": "code",
   "execution_count": null,
   "metadata": {},
   "outputs": [],
   "source": [
    "sudo apt-get install python3-sklearn python3-sklearn-lib python3-sklearn-doc"
   ]
  },
  {
   "cell_type": "markdown",
   "metadata": {},
   "source": [
    "<div style=\"display: flex; background-color: green\">\n",
    "<h3 style=\"margin: auto; font-weight: bold; pading:10px 10px 0px 10px;\n",
    "align: center\"> Installing packages on Fedora<h3>\n",
    "<div>"
   ]
  },
  {
   "cell_type": "code",
   "execution_count": null,
   "metadata": {},
   "outputs": [],
   "source": [
    "sudo dnf install python3-scikit-learn"
   ]
  },
  {
   "cell_type": "markdown",
   "metadata": {},
   "source": [
    "<div style=\"display: flex; background-color: green\">\n",
    "<h3 style=\"margin: auto; font-weight: bold; pading:10px 10px 0px 10px;\n",
    "align: center\"> Installing packages on MacPorts for Mac OSX<h3>\n",
    "<div>"
   ]
  },
  {
   "cell_type": "code",
   "execution_count": null,
   "metadata": {},
   "outputs": [],
   "source": [
    "sudo port install py39-scikit-learn"
   ]
  }
 ],
 "metadata": {
  "language_info": {
   "name": "python"
  },
  "orig_nbformat": 4
 },
 "nbformat": 4,
 "nbformat_minor": 2
}
