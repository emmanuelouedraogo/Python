{
 "cells": [
  {
   "cell_type": "markdown",
   "metadata": {},
   "source": [
    "La liste (list)\n"
   ]
  },
  {
   "cell_type": "code",
   "execution_count": 1,
   "metadata": {},
   "outputs": [],
   "source": [
    "liste_vide = []\n",
    "ma_liste = [10, 20, 30, 40]\n",
    "liste_depareillee = [None, 1, \"shrubbery\", True]"
   ]
  },
  {
   "cell_type": "markdown",
   "metadata": {},
   "source": [
    "Accéder aux éléments"
   ]
  },
  {
   "cell_type": "code",
   "execution_count": 2,
   "metadata": {},
   "outputs": [],
   "source": [
    "ma_liste = [10, 20, 30, 40]\n",
    "premier_element = ma_liste[0]\n",
    "second_element = ma_liste[1]"
   ]
  },
  {
   "cell_type": "code",
   "execution_count": 3,
   "metadata": {},
   "outputs": [],
   "source": [
    "ma_liste = [10, 20, 30, 40]\n",
    "dernier_element = ma_liste[-1]"
   ]
  },
  {
   "cell_type": "code",
   "execution_count": 4,
   "metadata": {},
   "outputs": [
    {
     "ename": "IndexError",
     "evalue": "list index out of range",
     "output_type": "error",
     "traceback": [
      "\u001b[0;31m---------------------------------------------------------------------------\u001b[0m",
      "\u001b[0;31mIndexError\u001b[0m                                Traceback (most recent call last)",
      "\u001b[1;32m/home/epikaizo/Documents/git/myPythonSkills/indexlist.ipynb Cell 6\u001b[0m line \u001b[0;36m2\n\u001b[1;32m      <a href='vscode-notebook-cell:/home/epikaizo/Documents/git/myPythonSkills/indexlist.ipynb#X10sZmlsZQ%3D%3D?line=0'>1</a>\u001b[0m ma_liste \u001b[39m=\u001b[39m [\u001b[39m10\u001b[39m, \u001b[39m20\u001b[39m, \u001b[39m30\u001b[39m, \u001b[39m40\u001b[39m]\n\u001b[0;32m----> <a href='vscode-notebook-cell:/home/epikaizo/Documents/git/myPythonSkills/indexlist.ipynb#X10sZmlsZQ%3D%3D?line=1'>2</a>\u001b[0m ma_liste[\u001b[39m10000\u001b[39;49m]\n",
      "\u001b[0;31mIndexError\u001b[0m: list index out of range"
     ]
    }
   ],
   "source": [
    "ma_liste = [10, 20, 30, 40]\n",
    "ma_liste[10000]"
   ]
  },
  {
   "cell_type": "code",
   "execution_count": 5,
   "metadata": {},
   "outputs": [
    {
     "name": "stdout",
     "output_type": "stream",
     "text": [
      "[0, 20, 30, 40]\n"
     ]
    }
   ],
   "source": [
    "ma_liste = [10, 20, 30, 40]\n",
    "ma_liste[0] = 0\n",
    "print(ma_liste)"
   ]
  },
  {
   "cell_type": "markdown",
   "metadata": {},
   "source": [
    "Les opérations sur les listes"
   ]
  },
  {
   "cell_type": "markdown",
   "metadata": {},
   "source": [
    "Connaître la taille d’une liste"
   ]
  },
  {
   "cell_type": "code",
   "execution_count": 6,
   "metadata": {},
   "outputs": [
    {
     "name": "stdout",
     "output_type": "stream",
     "text": [
      "4\n"
     ]
    }
   ],
   "source": [
    "ma_liste = [10, 20, 30, 40]\n",
    "taille_liste = len(ma_liste)\n",
    "print(taille_liste)"
   ]
  },
  {
   "cell_type": "code",
   "execution_count": 7,
   "metadata": {},
   "outputs": [
    {
     "name": "stdout",
     "output_type": "stream",
     "text": [
      "[10, 30, 40]\n"
     ]
    }
   ],
   "source": [
    "ma_liste = [10, 20, 30, 40]\n",
    "del ma_liste[1]\n",
    "print(ma_liste)"
   ]
  },
  {
   "cell_type": "markdown",
   "metadata": {},
   "source": [
    "Ajouter deux listes ensemble"
   ]
  },
  {
   "cell_type": "code",
   "execution_count": 8,
   "metadata": {},
   "outputs": [
    {
     "name": "stdout",
     "output_type": "stream",
     "text": [
      "[0, 1, 2, 10, 20, 30]\n"
     ]
    }
   ],
   "source": [
    "ma_liste = [0, 1, 2] + [10, 20, 30]\n",
    "print(ma_liste)"
   ]
  },
  {
   "cell_type": "markdown",
   "metadata": {},
   "source": [
    "Astuce"
   ]
  },
  {
   "cell_type": "code",
   "execution_count": 9,
   "metadata": {},
   "outputs": [
    {
     "name": "stdout",
     "output_type": "stream",
     "text": [
      "[0, 1, 2, 10, 20, 30]\n"
     ]
    }
   ],
   "source": [
    "ma_liste = [0, 1, 2]\n",
    "ma_liste += [10, 20, 30]\n",
    "print(ma_liste)"
   ]
  },
  {
   "cell_type": "markdown",
   "metadata": {},
   "source": [
    "Créer une liste étendue"
   ]
  },
  {
   "cell_type": "code",
   "execution_count": 10,
   "metadata": {},
   "outputs": [
    {
     "name": "stdout",
     "output_type": "stream",
     "text": [
      "['ni', 'ni', 'ni', 'ni', 'ni']\n"
     ]
    }
   ],
   "source": [
    "ma_liste = ['ni'] * 5\n",
    "print(ma_liste)"
   ]
  },
  {
   "cell_type": "code",
   "execution_count": 11,
   "metadata": {},
   "outputs": [
    {
     "data": {
      "text/plain": [
       "True"
      ]
     },
     "execution_count": 11,
     "metadata": {},
     "output_type": "execute_result"
    }
   ],
   "source": [
    "ma_liste = [1, 2, 3]\n",
    "2 in ma_liste"
   ]
  },
  {
   "cell_type": "code",
   "execution_count": 12,
   "metadata": {},
   "outputs": [
    {
     "data": {
      "text/plain": [
       "False"
      ]
     },
     "execution_count": 12,
     "metadata": {},
     "output_type": "execute_result"
    }
   ],
   "source": [
    "12 in ma_liste"
   ]
  },
  {
   "cell_type": "code",
   "execution_count": 13,
   "metadata": {},
   "outputs": [
    {
     "data": {
      "text/plain": [
       "True"
      ]
     },
     "execution_count": 13,
     "metadata": {},
     "output_type": "execute_result"
    }
   ],
   "source": [
    "12 not in ma_liste"
   ]
  },
  {
   "cell_type": "markdown",
   "metadata": {},
   "source": [
    "Comparer deux listes"
   ]
  },
  {
   "cell_type": "code",
   "execution_count": 14,
   "metadata": {},
   "outputs": [
    {
     "data": {
      "text/plain": [
       "True"
      ]
     },
     "execution_count": 14,
     "metadata": {},
     "output_type": "execute_result"
    }
   ],
   "source": [
    "ma_liste = [1, 2, 3]\n",
    "ma_liste == [1, 2, 3]"
   ]
  },
  {
   "cell_type": "code",
   "execution_count": 15,
   "metadata": {},
   "outputs": [
    {
     "data": {
      "text/plain": [
       "True"
      ]
     },
     "execution_count": 15,
     "metadata": {},
     "output_type": "execute_result"
    }
   ],
   "source": [
    "ma_liste != []"
   ]
  },
  {
   "cell_type": "code",
   "execution_count": 16,
   "metadata": {},
   "outputs": [
    {
     "data": {
      "text/plain": [
       "True"
      ]
     },
     "execution_count": 16,
     "metadata": {},
     "output_type": "execute_result"
    }
   ],
   "source": [
    "ma_liste < [1, 2, 3, 4]"
   ]
  },
  {
   "cell_type": "code",
   "execution_count": 17,
   "metadata": {},
   "outputs": [
    {
     "data": {
      "text/plain": [
       "True"
      ]
     },
     "execution_count": 17,
     "metadata": {},
     "output_type": "execute_result"
    }
   ],
   "source": [
    "ma_liste > [1, 2]"
   ]
  },
  {
   "cell_type": "markdown",
   "metadata": {},
   "source": [
    "Connaître le plus grand élément d’une liste"
   ]
  },
  {
   "cell_type": "code",
   "execution_count": 18,
   "metadata": {},
   "outputs": [
    {
     "name": "stdout",
     "output_type": "stream",
     "text": [
      "40\n"
     ]
    }
   ],
   "source": [
    "ma_liste = [10, 20, 30, 40]\n",
    "element = max(ma_liste)\n",
    "print(element)"
   ]
  },
  {
   "cell_type": "code",
   "execution_count": 20,
   "metadata": {},
   "outputs": [
    {
     "ename": "TypeError",
     "evalue": "'>' not supported between instances of 'str' and 'int'",
     "output_type": "error",
     "traceback": [
      "\u001b[0;31m---------------------------------------------------------------------------\u001b[0m",
      "\u001b[0;31mTypeError\u001b[0m                                 Traceback (most recent call last)",
      "\u001b[1;32m/home/epikaizo/Documents/git/myPythonSkills/indexlist.ipynb Cell 28\u001b[0m line \u001b[0;36m2\n\u001b[1;32m      <a href='vscode-notebook-cell:/home/epikaizo/Documents/git/myPythonSkills/indexlist.ipynb#X42sZmlsZQ%3D%3D?line=0'>1</a>\u001b[0m ma_liste \u001b[39m=\u001b[39m [\u001b[39m10\u001b[39m, \u001b[39m\"\u001b[39m\u001b[39mcoconut\u001b[39m\u001b[39m\"\u001b[39m]\n\u001b[0;32m----> <a href='vscode-notebook-cell:/home/epikaizo/Documents/git/myPythonSkills/indexlist.ipynb#X42sZmlsZQ%3D%3D?line=1'>2</a>\u001b[0m element \u001b[39m=\u001b[39m \u001b[39mmax\u001b[39;49m(ma_liste)\n",
      "\u001b[0;31mTypeError\u001b[0m: '>' not supported between instances of 'str' and 'int'"
     ]
    }
   ],
   "source": [
    "ma_liste = [10, \"coconut\"]\n",
    "element = max(ma_liste)"
   ]
  },
  {
   "cell_type": "markdown",
   "metadata": {},
   "source": [
    "Connaître le plus petit élément d’une liste"
   ]
  },
  {
   "cell_type": "code",
   "execution_count": 23,
   "metadata": {},
   "outputs": [
    {
     "name": "stdout",
     "output_type": "stream",
     "text": [
      "a\n"
     ]
    }
   ],
   "source": [
    "ma_liste = [\"a\", \"b\", \"c\"]\n",
    "element = min(ma_liste)\n",
    "print(element)"
   ]
  },
  {
   "cell_type": "markdown",
   "metadata": {},
   "source": [
    "Découper une liste\n",
    "\n",
    "[index départ : indice supérieur]\n",
    "\n",
    "[index départ : indice supérieur : pas d’incrément]"
   ]
  },
  {
   "cell_type": "code",
   "execution_count": 24,
   "metadata": {},
   "outputs": [
    {
     "name": "stdout",
     "output_type": "stream",
     "text": [
      "[20, 30]\n"
     ]
    }
   ],
   "source": [
    "ma_liste = [10, 20, 30, 40]\n",
    "autre_liste = ma_liste[1:3]\n",
    "print(autre_liste)"
   ]
  },
  {
   "cell_type": "code",
   "execution_count": 25,
   "metadata": {},
   "outputs": [
    {
     "name": "stdout",
     "output_type": "stream",
     "text": [
      "[30, 40]\n"
     ]
    }
   ],
   "source": [
    "ma_liste = [10, 20, 30, 40]\n",
    "derniers_elements = ma_liste[-2:4]\n",
    "print(derniers_elements)"
   ]
  },
  {
   "cell_type": "code",
   "execution_count": 26,
   "metadata": {},
   "outputs": [
    {
     "name": "stdout",
     "output_type": "stream",
     "text": [
      "[2, 4, 6, 8]\n"
     ]
    }
   ],
   "source": [
    "ma_liste = [1, 2, 3, 4, 5, 6, 7, 8, 9]\n",
    "nombres_pairs = ma_liste[1:9:2]\n",
    "print(nombres_pairs)"
   ]
  },
  {
   "cell_type": "code",
   "execution_count": 27,
   "metadata": {},
   "outputs": [
    {
     "name": "stdout",
     "output_type": "stream",
     "text": [
      "[10, 20, 30]\n"
     ]
    }
   ],
   "source": [
    "ma_liste = [10, 20, 30, 40]\n",
    "liste_sauf_dernier_element = ma_liste[:-1]\n",
    "print(liste_sauf_dernier_element)"
   ]
  },
  {
   "cell_type": "code",
   "execution_count": 28,
   "metadata": {},
   "outputs": [
    {
     "name": "stdout",
     "output_type": "stream",
     "text": [
      "[20, 30, 40]\n"
     ]
    }
   ],
   "source": [
    "liste_sauf_premier_element = ma_liste[1:]\n",
    "print(liste_sauf_premier_element)"
   ]
  },
  {
   "cell_type": "code",
   "execution_count": 29,
   "metadata": {},
   "outputs": [
    {
     "name": "stdout",
     "output_type": "stream",
     "text": [
      "[10, 30]\n"
     ]
    }
   ],
   "source": [
    "un_sur_deux = ma_liste[::2]\n",
    "print(un_sur_deux)"
   ]
  },
  {
   "cell_type": "markdown",
   "metadata": {},
   "source": [
    "Astuce"
   ]
  },
  {
   "cell_type": "code",
   "execution_count": 30,
   "metadata": {},
   "outputs": [
    {
     "name": "stdout",
     "output_type": "stream",
     "text": [
      "[30, 40]\n"
     ]
    }
   ],
   "source": [
    "ma_liste = [10, 20, 30, 40]\n",
    "nouvelle_liste = ma_liste[2:1000]\n",
    "print(nouvelle_liste)"
   ]
  },
  {
   "cell_type": "code",
   "execution_count": 31,
   "metadata": {},
   "outputs": [
    {
     "name": "stdout",
     "output_type": "stream",
     "text": [
      "[]\n"
     ]
    }
   ],
   "source": [
    "nouvelle_liste = ma_liste[1000:]\n",
    "print(nouvelle_liste)"
   ]
  },
  {
   "cell_type": "code",
   "execution_count": 32,
   "metadata": {},
   "outputs": [
    {
     "name": "stdout",
     "output_type": "stream",
     "text": [
      "['a', 'b']\n"
     ]
    }
   ],
   "source": [
    "ma_liste = ['a', 'b', 'c', 'd']\n",
    "del ma_liste[-2:]\n",
    "print(ma_liste)"
   ]
  },
  {
   "cell_type": "markdown",
   "metadata": {},
   "source": [
    "Copier une liste"
   ]
  },
  {
   "cell_type": "code",
   "execution_count": 33,
   "metadata": {},
   "outputs": [],
   "source": [
    "ma_liste = [10, 20, 30, 40]\n",
    "une_autre_liste = ma_liste"
   ]
  },
  {
   "cell_type": "code",
   "execution_count": 34,
   "metadata": {},
   "outputs": [
    {
     "name": "stdout",
     "output_type": "stream",
     "text": [
      "0\n"
     ]
    }
   ],
   "source": [
    "ma_liste = [10, 20, 30, 40]\n",
    "une_autre_liste = ma_liste\n",
    "ma_liste[0] = 0\n",
    "print(une_autre_liste[0])"
   ]
  },
  {
   "cell_type": "code",
   "execution_count": 35,
   "metadata": {},
   "outputs": [
    {
     "name": "stdout",
     "output_type": "stream",
     "text": [
      "10\n"
     ]
    }
   ],
   "source": [
    "ma_liste = [10, 20, 30, 40]\n",
    "une_autre_liste = list(ma_liste)\n",
    "ma_liste[0] = 0\n",
    "print(une_autre_liste[0])"
   ]
  },
  {
   "cell_type": "markdown",
   "metadata": {},
   "source": [
    "Astuce"
   ]
  },
  {
   "cell_type": "code",
   "execution_count": 36,
   "metadata": {},
   "outputs": [
    {
     "data": {
      "text/plain": [
       "[10, 20, 30, 40]"
      ]
     },
     "execution_count": 36,
     "metadata": {},
     "output_type": "execute_result"
    }
   ],
   "source": [
    "ma_liste = [10, 20, 30, 40]\n",
    "nouvelle_liste = ma_liste[:]\n",
    "ma_liste[:] "
   ]
  },
  {
   "cell_type": "markdown",
   "metadata": {},
   "source": [
    "Quelques méthodes pour les listes"
   ]
  },
  {
   "cell_type": "code",
   "execution_count": 37,
   "metadata": {},
   "outputs": [
    {
     "name": "stdout",
     "output_type": "stream",
     "text": [
      "[1, 2, 3]\n"
     ]
    }
   ],
   "source": [
    "#Pour ajouter un élément à la liste.\n",
    "ma_liste = [1]\n",
    "ma_liste.append(2)\n",
    "ma_liste.append(3)\n",
    "print(ma_liste) "
   ]
  },
  {
   "cell_type": "code",
   "execution_count": 41,
   "metadata": {},
   "outputs": [
    {
     "name": "stdout",
     "output_type": "stream",
     "text": [
      "[1, 2, 3, 4]\n",
      "['a', 'b', 'c', 'd']\n",
      "['a', 'c', 'd']\n",
      "[]\n",
      "3\n",
      "[2, 3, 4, 6]\n",
      "[6, 4, 3, 2]\n",
      "[3, 2, 4]\n"
     ]
    }
   ],
   "source": [
    "#Pour ajouter une séquence à une liste.\n",
    "\n",
    "ma_liste = [1]\n",
    "ma_liste.extend([2, 3, 4])\n",
    "print(ma_liste)\n",
    "\n",
    "#Pour insérer un nouvel élément à un index.\n",
    "#insert(i, e)\n",
    "ma_liste = ['a', 'c', 'd']\n",
    "ma_liste.insert(1, 'b')\n",
    "print(ma_liste)\n",
    "\n",
    "# Pour supprimer un élément de la liste.\n",
    "#remove(e)\n",
    "ma_liste = ['a', 'b', 'c', 'd']\n",
    "ma_liste.remove('b')\n",
    "print(ma_liste)\n",
    "#Pour supprimer tous les éléments d’une liste.\n",
    "#clear()\n",
    "ma_liste = [10, 20, 30]\n",
    "ma_liste.clear()\n",
    "print(ma_liste)\n",
    "\n",
    "#Pour compter le nombre d’occurrences d’un élément.\n",
    "#count(e)\n",
    "ma_liste = [\"John\", \"Eric\", \"Michael\", \"John\", \"Eric\", \"John\"]\n",
    "occurrence = ma_liste.count(\"John\")\n",
    "print(occurrence)\n",
    "\n",
    "#Pour trier une liste par ordre croissant.\n",
    "#sort()\n",
    "ma_liste = [3, 2, 6, 4]\n",
    "ma_liste.sort()\n",
    "print(ma_liste)\n",
    "\n",
    "#Pour trier par ordre décroissant, on utilise le paramètre nommé reverse :\n",
    "ma_liste = [3, 2, 6, 4]\n",
    "ma_liste.sort(reverse=True)\n",
    "print(ma_liste)\n",
    "\n",
    "#Pour inverser l’ordre des éléments dans la liste.\n",
    "#reverse()\n",
    "ma_liste = [4, 2, 3]\n",
    "ma_liste.reverse()\n",
    "print(ma_liste)"
   ]
  }
 ],
 "metadata": {
  "kernelspec": {
   "display_name": "pythonCourses",
   "language": "python",
   "name": "python3"
  },
  "language_info": {
   "codemirror_mode": {
    "name": "ipython",
    "version": 3
   },
   "file_extension": ".py",
   "mimetype": "text/x-python",
   "name": "python",
   "nbconvert_exporter": "python",
   "pygments_lexer": "ipython3",
   "version": "3.11.4"
  },
  "orig_nbformat": 4
 },
 "nbformat": 4,
 "nbformat_minor": 2
}
